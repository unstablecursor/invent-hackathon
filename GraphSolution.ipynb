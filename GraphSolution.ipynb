{
 "cells": [
  {
   "cell_type": "code",
   "execution_count": null,
   "metadata": {
    "collapsed": true
   },
   "outputs": [],
   "source": [
    "\n",
    "#neighbour is in dictionary format.\n",
    "cache = {}\n",
    "found = False\n",
    "for neighbour in neighbours:\n",
    "    if self.val < 0 and self.val + neighbour[product] + cache.val > 0 :\n",
    "        transfer(self, neighbour)\n",
    "        found = True\n",
    "    elif self.val < 0 :\n",
    "        cache = neighbour\n",
    "        #If group is larger than 3, cache will be a list of dictionarys\n",
    "        \n",
    "#If candidate is not found, append it for later\n",
    "#It will be used at Zone and District calculations.\n",
    "if !Found:\n",
    "    shortage.append(self)\n",
    "    "
   ]
  }
 ],
 "metadata": {
  "kernelspec": {
   "display_name": "Python 2",
   "language": "python",
   "name": "python2"
  },
  "language_info": {
   "codemirror_mode": {
    "name": "ipython",
    "version": 2
   },
   "file_extension": ".py",
   "mimetype": "text/x-python",
   "name": "python",
   "nbconvert_exporter": "python",
   "pygments_lexer": "ipython2",
   "version": "2.7.10"
  }
 },
 "nbformat": 4,
 "nbformat_minor": 2
}
